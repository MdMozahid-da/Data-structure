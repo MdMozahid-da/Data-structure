{
  "nbformat": 4,
  "nbformat_minor": 0,
  "metadata": {
    "colab": {
      "provenance": []
    },
    "kernelspec": {
      "name": "python3",
      "display_name": "Python 3"
    },
    "language_info": {
      "name": "python"
    }
  },
  "cells": [
    {
      "cell_type": "markdown",
      "source": [
        "#Data Structure"
      ],
      "metadata": {
        "id": "uUxgW-_FLw_G"
      }
    },
    {
      "cell_type": "markdown",
      "source": [
        "1. What are data structures, and why are they important?\n",
        "\n",
        "- Data structures are organized ways to store, manage, and organize data so that it can be used efficiently. They are crucial because they provide different methods to access, manipulate, and perform operations on data, enhancing the efficiency and performance of algorithms. Common examples include arrays, linked lists, stacks, queues, trees, and graphs.\n",
        "\n",
        "2. Explain the difference between mutable and immutable data types with examples.\n",
        "\n",
        "- Mutable data types are those whose values or state can be changed after they are created. Examples include lists, dictionaries, and sets. For instance, you can add or remove items from a list.\n",
        "\n",
        " Immutable data types cannot be altered once created. Examples include tuples and strings. For instance, once a string is created, you cannot change its characters.\n",
        "\n",
        "3. What are the main differences between lists and tuples in Python?\n",
        "\n",
        "- Lists are mutable, meaning their contents can be changed. They are defined with square brackets, e.g., [1, 2, 3], and offer operations like append, remove, and sort.\n",
        "\n",
        " Tuples are immutable, meaning their contents cannot be changed once defined. They are defined with parentheses, e.g., (1, 2, 3), and do not have operations to change their contents.\n",
        "\n",
        "4. Describe how dictionaries store data.\n",
        "\n",
        "- Dictionaries store data in key-value pairs, where each key is unique and maps to a specific value. Internally, they use hash tables to allow for efficient data retrieval. For example, the dictionary {'name': 'John', 'age': 30} stores two key-value pairs: name mapping to John and age mapping to 30.\n",
        "\n",
        "5. Why might you use a set instead of a list in Python?\n",
        "\n",
        "- Sets are used when you need an unordered collection of unique elements. Unlike lists, sets automatically handle duplicates and offer fast membership testing. For example, if you want a collection of unique cities visited, a set would be appropriate: {'New York', 'Paris', 'Berlin'}.\n",
        "6. What is the difference between shallow copy and deep copy in Python?\n",
        "\n",
        "- Shallow copy creates a new object, but inserts references into it to the objects found in the original. This means changes to mutable objects within the copied object (like lists within lists) will affect the original object.\n",
        "\n",
        " Deep copy creates a new object and recursively copies all objects found within the original. This means changes to nested mutable objects in the copy will not affect the original object. You can use the copy module for both shallow and deep copies in Python. For example: copy.copy() for shallow copy, and copy.deepcopy() for deep copy.\n",
        "\n",
        "7. Describe the concept of polymorphism in Object-Oriented Programming.\n",
        "\n",
        "- Polymorphism allows objects of different types to be treated as objects of a common super type. It is a core concept in OOP that enables methods to do different things based on the object it is acting upon. For example, in Python, you can have a class called Animal with a method make_sound(), and different subclasses like Dog and Cat that each have their own version of make_sound(). Here, the exact implementation of make_sound() is determined at runtime.\n",
        "\n",
        "8. Explain the role of a constructor in a class.\n",
        "\n",
        "- A constructor is a special method of a class that gets called when an object of the class is instantiated. In Python, the constructor method is defined by __init__(). It is commonly used to initialize the attributes of the class when an object is created. For example:\n"
      ],
      "metadata": {
        "id": "aduW1iRyMUFD"
      }
    },
    {
      "cell_type": "code",
      "source": [
        "'''\n",
        "class Car:\n",
        "    def __init__(self, make, model):\n",
        "        self.make = make\n",
        "        self.model = model\n",
        "my_car = Car('Toyota', 'Camry')\n",
        "'''"
      ],
      "metadata": {
        "colab": {
          "base_uri": "https://localhost:8080/",
          "height": 36
        },
        "id": "shvaR1WLhJha",
        "outputId": "3685f6cb-d554-42db-953f-b23ca7ff4dd1"
      },
      "execution_count": 1,
      "outputs": [
        {
          "output_type": "execute_result",
          "data": {
            "text/plain": [
              "\"\\nclass Car:\\n    def __init__(self, make, model):\\n        self.make = make\\n        self.model = model\\nmy_car = Car('Toyota', 'Camry')\\n\""
            ],
            "application/vnd.google.colaboratory.intrinsic+json": {
              "type": "string"
            }
          },
          "metadata": {},
          "execution_count": 1
        }
      ]
    },
    {
      "cell_type": "markdown",
      "source": [
        "9. What is the purpose of encapsulation in OOP?\n",
        "\n",
        "- Encapsulation is a principle of OOP that restricts direct access to some of an object's components, which can help prevent the accidental modification of data. It is typically achieved using access modifiers, such as private and protected members, to hide the internal state of the object while providing public methods to access and modify that state within defined bounds. This aspect of control also adds a layer of security and flexibility to code.\n",
        "\n",
        "10. What are decorators in Python, and how do they work?\n",
        "\n",
        "- Decorators are a powerful feature in Python that allow you to modify the behavior of a function or method. They are typically used to add functionality to existing code in a clear and concise manner. To create a decorator, you define a function that takes another function as an argument, and returns a new function that adds some behavior. The decorator is applied to a function with the @ symbol. For example:\n"
      ],
      "metadata": {
        "id": "qPLg4UyghbBZ"
      }
    },
    {
      "cell_type": "code",
      "source": [
        "'''\n",
        "def my_decorator(func):\n",
        "    def wrapper():\n",
        "        print(\"Something is happening before the function is called\")\n",
        "        func()\n",
        "        print(\"Something is happening after the function is called\")\n",
        "    return wrapper\n",
        "\n",
        "@my_decorator\n",
        "def say_hello():\n",
        "    print(\"Hello!\")\n",
        "\n",
        "say_hello()\n",
        "'''"
      ],
      "metadata": {
        "id": "zsdEHm_6h0K8"
      },
      "execution_count": null,
      "outputs": []
    },
    {
      "cell_type": "markdown",
      "source": [
        "11. Explain the concept of inheritance in Object-Oriented Programming.\n",
        "\n",
        "- Inheritance allows a new class (child or subclass) to inherit attributes and methods from an existing class (parent or superclass). This promotes code reuse and establishes a relationship between the new class and the existing class. For example:"
      ],
      "metadata": {
        "id": "D-06eQEfh0ss"
      }
    },
    {
      "cell_type": "code",
      "source": [
        "'''\n",
        "class Animal:\n",
        "    def __init__(self, name):\n",
        "        self.name = name\n",
        "\n",
        "    def speak(self):\n",
        "        pass\n",
        "\n",
        "class Dog(Animal):\n",
        "    def speak(self):\n",
        "        return f\"{self.name} says Woof!\"\n",
        "\n",
        "class Cat(Animal):\n",
        "    def speak(self):\n",
        "        return f\"{self.name} says Meow!\"\n",
        "'''"
      ],
      "metadata": {
        "id": "lpUJfU9CiH0H"
      },
      "execution_count": null,
      "outputs": []
    },
    {
      "cell_type": "markdown",
      "source": [
        "12. What is the significance of the 'self' keyword in Python classes?\n",
        "\n",
        "- The 'self' keyword represents the instance of the class and allows access to the attributes and methods of the class within its scope. It must be the first parameter of any method in the class. It helps in differentiating between instance variables and local variables within methods.\n",
        "\n",
        "13. How do you handle exceptions in Python?\n",
        "\n",
        "- Python uses try...except blocks to handle exceptions. This mechanism allows you to catch and handle errors gracefully without crashing your program. Here’s a simple example:"
      ],
      "metadata": {
        "id": "bNXktTy4iMHv"
      }
    },
    {
      "cell_type": "code",
      "source": [
        "'''\n",
        "try:\n",
        "    result = 10 / 0\n",
        "except ZeroDivisionError:\n",
        "    print(\"You can't divide by zero!\")\n",
        "finally:\n",
        "    print(\"This is executed whether an exception occurs or not.\")\n",
        "'''"
      ],
      "metadata": {
        "id": "f4E6M0-OiZL8"
      },
      "execution_count": null,
      "outputs": []
    },
    {
      "cell_type": "markdown",
      "source": [
        "14. What is a lambda function in Python?\n",
        "\n",
        "- Lambda functions are small, anonymous functions defined with the lambda keyword. They are often used for short, simple operations without the need to formally define a function. A lambda function can have multiple arguments but only one expression. For example:"
      ],
      "metadata": {
        "id": "AZD2BEyBii2U"
      }
    },
    {
      "cell_type": "code",
      "source": [
        "'''\n",
        "add = lambda x, y: x + y\n",
        "print(add(5, 3))  # Output: 8\n",
        "'''"
      ],
      "metadata": {
        "id": "HO7CCInuidtd"
      },
      "execution_count": null,
      "outputs": []
    },
    {
      "cell_type": "markdown",
      "source": [
        "15. What are list comprehensions, and how are they used in Python?\n",
        "\n",
        "- List comprehensions provide a concise way to create lists. They consist of brackets containing an expression followed by a for clause, and can include optional if clauses. For example, to create a list of squares:"
      ],
      "metadata": {
        "id": "nPOjU-DIweZG"
      }
    },
    {
      "cell_type": "code",
      "source": [
        "'''\n",
        "squares = [x**2 for x in range(10)]\n",
        "print(squares)  # Output: [0, 1, 4, 9, 16, 25, 36, 49, 64, 81]\n",
        "'''"
      ],
      "metadata": {
        "id": "5UB7RKPbwmx4"
      },
      "execution_count": null,
      "outputs": []
    },
    {
      "cell_type": "markdown",
      "source": [
        "# Practical questions\n"
      ],
      "metadata": {
        "id": "PnS5q0pAwunZ"
      }
    },
    {
      "cell_type": "markdown",
      "source": [
        "1. Create a string with your name and print it."
      ],
      "metadata": {
        "id": "yGO_DsquD-Q9"
      }
    },
    {
      "cell_type": "code",
      "source": [
        "'''\n",
        "name = \"Mozahid\"\n",
        "print(name)\n",
        "'''"
      ],
      "metadata": {
        "id": "VS7hhacuo0_a"
      },
      "execution_count": null,
      "outputs": []
    },
    {
      "cell_type": "markdown",
      "source": [
        "2. Find the length of the string \"Hello World\"."
      ],
      "metadata": {
        "id": "0X2rGXdNpBJn"
      }
    },
    {
      "cell_type": "code",
      "source": [
        "'''\n",
        "string = \"Hello World\"\n",
        "length = len(string)\n",
        "print(length)\n",
        "'''"
      ],
      "metadata": {
        "id": "SWEmM1M4pHOX"
      },
      "execution_count": null,
      "outputs": []
    },
    {
      "cell_type": "markdown",
      "source": [
        "3. Slice the first 3 characters from the string \"Python Programming\"."
      ],
      "metadata": {
        "id": "9l0O9-k9pNWb"
      }
    },
    {
      "cell_type": "code",
      "source": [
        "'''\n",
        "string = \"Python Programming\"\n",
        "sliced_string = string[:3]\n",
        "print(sliced_string)\n",
        "'''"
      ],
      "metadata": {
        "id": "SoipGazkpR97"
      },
      "execution_count": null,
      "outputs": []
    },
    {
      "cell_type": "markdown",
      "source": [
        "4. Convert the string \"hello\" to uppercase."
      ],
      "metadata": {
        "id": "d5q0AxDMpWZF"
      }
    },
    {
      "cell_type": "code",
      "source": [
        "'''\n",
        "string = \"hello\"\n",
        "uppercase_string = string.upper()\n",
        "print(uppercase_string)\n",
        "'''\n"
      ],
      "metadata": {
        "id": "AMfEkP9NpgXe"
      },
      "execution_count": null,
      "outputs": []
    },
    {
      "cell_type": "markdown",
      "source": [
        "5. Replace the word \"apple\" with \"orange\" in the string \"I like apple\"."
      ],
      "metadata": {
        "id": "TiwLnw5aplI_"
      }
    },
    {
      "cell_type": "code",
      "source": [
        "'''\n",
        "string = \"I like apple\"\n",
        "replaced_string = string.replace(\"apple\", \"orange\")\n",
        "print(replaced_string)\n",
        "'''"
      ],
      "metadata": {
        "id": "CDeHfpOoppOr"
      },
      "execution_count": null,
      "outputs": []
    },
    {
      "cell_type": "markdown",
      "source": [
        "6. Create a list with numbers 1 to 5 and print it."
      ],
      "metadata": {
        "id": "b5Ye7gWVpwO6"
      }
    },
    {
      "cell_type": "code",
      "source": [
        "'''\n",
        "numbers = [1, 2, 3, 4, 5]\n",
        "print(numbers)\n",
        "'''"
      ],
      "metadata": {
        "id": "QWtlCWG5p2uO"
      },
      "execution_count": null,
      "outputs": []
    },
    {
      "cell_type": "markdown",
      "source": [
        "7. Append the number 10 to the list [1, 2, 3, 4]."
      ],
      "metadata": {
        "id": "Jd2OOT7Np5_6"
      }
    },
    {
      "cell_type": "code",
      "source": [
        "'''\n",
        "numbers = [1, 2, 3, 4]\n",
        "numbers.append(10)\n",
        "print(numbers)\n",
        "'''"
      ],
      "metadata": {
        "id": "N_0eyl3hp_sg"
      },
      "execution_count": null,
      "outputs": []
    },
    {
      "cell_type": "markdown",
      "source": [
        "8. Remove the number 3 from the list [1, 2, 3, 4, 5]."
      ],
      "metadata": {
        "id": "CIJKEjPDqSc4"
      }
    },
    {
      "cell_type": "code",
      "source": [
        "'''\n",
        "numbers = [1, 2, 3, 4, 5]\n",
        "numbers.remove(3)\n",
        "print(numbers)\n",
        "'''"
      ],
      "metadata": {
        "id": "3Pryv9BSqXPv"
      },
      "execution_count": null,
      "outputs": []
    },
    {
      "cell_type": "markdown",
      "source": [
        "9. Access the second element in the list ['a', 'b', 'c', 'd']."
      ],
      "metadata": {
        "id": "XecYrlDGqeKI"
      }
    },
    {
      "cell_type": "code",
      "source": [
        "'''\n",
        "letters = ['a', 'b', 'c', 'd']\n",
        "second_element = letters[1]\n",
        "print(second_element)\n",
        "'''"
      ],
      "metadata": {
        "id": "HPlY_BKAqi8L"
      },
      "execution_count": null,
      "outputs": []
    },
    {
      "cell_type": "markdown",
      "source": [
        "10. Reverse the list [10, 20, 30, 40, 50]:"
      ],
      "metadata": {
        "id": "HKmnPSRGqpAY"
      }
    },
    {
      "cell_type": "code",
      "source": [
        "'''\n",
        "numbers = [10, 20, 30, 40, 50]\n",
        "reversed_list = numbers[::-1]\n",
        "print(reversed_list)\n",
        "'''"
      ],
      "metadata": {
        "id": "A50yAVlOqwPc"
      },
      "execution_count": null,
      "outputs": []
    },
    {
      "cell_type": "markdown",
      "source": [
        "11. Create a tuple with the elements 10, 20, 30 and print it."
      ],
      "metadata": {
        "id": "jh1kKkxXqyzZ"
      }
    },
    {
      "cell_type": "code",
      "source": [
        "'''\n",
        "my_tuple = (10, 20, 30)\n",
        "print(my_tuple)\n",
        "'''"
      ],
      "metadata": {
        "id": "cja2--QztV_d"
      },
      "execution_count": null,
      "outputs": []
    },
    {
      "cell_type": "markdown",
      "source": [
        "12. Access the first element of the tuple ('apple', 'banana', 'cherry')."
      ],
      "metadata": {
        "id": "il3lr4NHtb-p"
      }
    },
    {
      "cell_type": "code",
      "source": [
        "'''\n",
        "fruits = ('apple', 'banana', 'cherry')\n",
        "first_element = fruits[0]\n",
        "print(first_element)\n",
        "'''"
      ],
      "metadata": {
        "id": "_UXXbbDZtkzO"
      },
      "execution_count": null,
      "outputs": []
    },
    {
      "cell_type": "markdown",
      "source": [
        "13. Count how many times the number 2 appears in the tuple (1, 2, 3, 2, 4, 2)."
      ],
      "metadata": {
        "id": "Ad7PGlk2tuU6"
      }
    },
    {
      "cell_type": "code",
      "source": [
        "'''\n",
        "numbers = (1, 2, 3, 2, 4, 2)\n",
        "count_of_2 = numbers.count(2)\n",
        "print(count_of_2)\n",
        "'''"
      ],
      "metadata": {
        "id": "htW62bPDt1Pv"
      },
      "execution_count": null,
      "outputs": []
    },
    {
      "cell_type": "markdown",
      "source": [
        "14. Find the index of the element \"cat\" in the tuple ('dog', 'cat', 'rabbit')."
      ],
      "metadata": {
        "id": "VNxJsjZmt41I"
      }
    },
    {
      "cell_type": "code",
      "source": [
        "'''\n",
        "animals = ('dog', 'cat', 'rabbit')\n",
        "index_of_cat = animals.index('cat')\n",
        "print(index_of_cat)\n",
        "'''"
      ],
      "metadata": {
        "id": "UnXWVjFGt-4s"
      },
      "execution_count": null,
      "outputs": []
    },
    {
      "cell_type": "markdown",
      "source": [
        "15. Check if the element \"banana\" is in the tuple ('apple', 'orange', 'banana')."
      ],
      "metadata": {
        "id": "VVVm3XDSuCCY"
      }
    },
    {
      "cell_type": "code",
      "source": [
        "'''\n",
        "fruits = ('apple', 'orange', 'banana')\n",
        "is_banana_in_tuple = 'banana' in fruits\n",
        "print(is_banana_in_tuple)\n",
        "'''"
      ],
      "metadata": {
        "id": "ISkNKSG0uFvP"
      },
      "execution_count": null,
      "outputs": []
    },
    {
      "cell_type": "markdown",
      "source": [
        "16. Create a set with the elements 1, 2, 3, 4, 5 and print it."
      ],
      "metadata": {
        "id": "DKen3fE4uJQi"
      }
    },
    {
      "cell_type": "code",
      "source": [
        "'''\n",
        "my_set = {1, 2, 3, 4, 5}\n",
        "print(my_set)\n",
        "'''"
      ],
      "metadata": {
        "id": "SsccnqAxuP3t"
      },
      "execution_count": null,
      "outputs": []
    },
    {
      "cell_type": "markdown",
      "source": [
        "17. Add the element 6 to the set {1, 2, 3, 4}."
      ],
      "metadata": {
        "id": "U5kQy9fdvNjy"
      }
    },
    {
      "cell_type": "code",
      "source": [
        "'''\n",
        "my_set = {1, 2, 3, 4}\n",
        "my_set.add(6)\n",
        "print(my_set)\n",
        "'''"
      ],
      "metadata": {
        "id": "8He0jdV2vUNw"
      },
      "execution_count": null,
      "outputs": []
    }
  ]
}